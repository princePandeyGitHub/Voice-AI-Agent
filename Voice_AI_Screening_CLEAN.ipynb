{
 "cells": [
  {
   "cell_type": "markdown",
   "id": "7868df0d",
   "metadata": {},
   "source": [
    "# Voice AI Agent for Telephonic Screening of Candidates"
   ]
  },
  {
   "cell_type": "markdown",
   "id": "2f41e212",
   "metadata": {},
   "source": [
    "\n",
    "## 📌 Project Overview\n",
    "\n",
    "This project simulates an AI-powered telephonic screening agent. It:\n",
    "- Transcribes candidate audio using Whisper\n",
    "- Extracts key information and sentiment using NLP\n",
    "- Evaluates responses for screening decisions\n",
    "- Outputs insights and recommendations\n",
    "\n",
    "**Modules:**\n",
    "1. Audio Transcription\n",
    "2. NLP Analysis\n",
    "3. Agent Reasoning Logic\n",
    "4. Insights and Recommendation\n"
   ]
  },
  {
   "cell_type": "code",
   "execution_count": null,
   "id": "4793b1b8",
   "metadata": {},
   "outputs": [],
   "source": [
    "\n",
    "# 📦 Required Libraries\n",
    "!pip install openai-whisper keybert transformers torch torchaudio nltk vaderSentiment spacy\n",
    "import whisper\n",
    "import torchaudio\n",
    "import nltk\n",
    "from keybert import KeyBERT\n",
    "from transformers import pipeline\n",
    "from vaderSentiment.vaderSentiment import SentimentIntensityAnalyzer\n",
    "import os\n",
    "\n",
    "nltk.download('punkt')\n"
   ]
  },
  {
   "cell_type": "markdown",
   "id": "b02b84b8",
   "metadata": {},
   "source": [
    "## 🎙️ Step 1: Transcribe Candidate Audio"
   ]
  },
  {
   "cell_type": "code",
   "execution_count": null,
   "id": "a2c1a827",
   "metadata": {},
   "outputs": [],
   "source": [
    "\n",
    "# Load Whisper model\n",
    "model = whisper.load_model(\"base\")\n",
    "\n",
    "# Transcribe audio file\n",
    "audio_path = \"sample_audio.wav\"  # Replace with your audio file\n",
    "result = model.transcribe(audio_path)\n",
    "transcript = result['text']\n",
    "\n",
    "print(\"Transcript:\\n\", transcript)\n"
   ]
  },
  {
   "cell_type": "markdown",
   "id": "82c6fe7e",
   "metadata": {},
   "source": [
    "## 🧠 Step 2: NLP Analysis"
   ]
  },
  {
   "cell_type": "code",
   "execution_count": null,
   "id": "eca918d9",
   "metadata": {},
   "outputs": [],
   "source": [
    "\n",
    "# Sentiment analysis\n",
    "analyzer = SentimentIntensityAnalyzer()\n",
    "sentiment = analyzer.polarity_scores(transcript)\n",
    "print(\"Sentiment Scores:\", sentiment)\n",
    "\n",
    "# Keyword extraction\n",
    "kw_model = KeyBERT()\n",
    "keywords = kw_model.extract_keywords(transcript, top_n=5)\n",
    "print(\"Top Keywords:\", keywords)\n"
   ]
  },
  {
   "cell_type": "markdown",
   "id": "883544af",
   "metadata": {},
   "source": [
    "## 🔍 Step 3: Agent Reasoning Logic"
   ]
  },
  {
   "cell_type": "code",
   "execution_count": null,
   "id": "98c6a89b",
   "metadata": {},
   "outputs": [],
   "source": [
    "\n",
    "# Sample reasoning logic\n",
    "def screen_candidate(transcript, sentiment, keywords):\n",
    "    issues = []\n",
    "    if sentiment['compound'] < 0:\n",
    "        issues.append(\"Negative tone detected\")\n",
    "    if not any(kw[0].lower() in transcript.lower() for kw in keywords):\n",
    "        issues.append(\"Lack of relevant skill keywords\")\n",
    "\n",
    "    if \"not interested\" in transcript.lower() or \"can't join\" in transcript.lower():\n",
    "        return \"Reject\", issues\n",
    "    elif \"yes\" in transcript.lower() and sentiment['compound'] > 0.1:\n",
    "        return \"Screen-In\", issues\n",
    "    else:\n",
    "        return \"Escalate\", issues\n",
    "\n",
    "status, issues = screen_candidate(transcript, sentiment, keywords)\n",
    "print(\"Candidate Status:\", status)\n",
    "print(\"Agent Observations:\", issues)\n"
   ]
  },
  {
   "cell_type": "markdown",
   "id": "1bfb053e",
   "metadata": {},
   "source": [
    "## 📋 Step 4: Feedback Summary"
   ]
  },
  {
   "cell_type": "code",
   "execution_count": null,
   "id": "15e792da",
   "metadata": {},
   "outputs": [],
   "source": [
    "\n",
    "from IPython.display import display, Markdown\n",
    "\n",
    "feedback = f'''\n",
    "### Final Summary:\n",
    "- **Transcript:** {transcript}\n",
    "- **Sentiment:** {sentiment}\n",
    "- **Keywords:** {keywords}\n",
    "- **Decision:** {status}\n",
    "- **Issues/Notes:** {issues}\n",
    "'''\n",
    "\n",
    "display(Markdown(feedback))\n"
   ]
  }
 ],
 "metadata": {},
 "nbformat": 4,
 "nbformat_minor": 5
}
